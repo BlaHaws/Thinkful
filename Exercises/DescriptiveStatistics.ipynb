{
 "cells": [
  {
   "cell_type": "markdown",
   "metadata": {},
   "source": [
    "To complete the following drills, you'll need to use your Python skills to create some datasets, then use your new statistical knowledge to summarize them. Choose 6 distributions from the list of random distributions available in NumPy, called “Distributions”\n",
    "\n",
    "For each distribution:\n",
    "\n",
    "1. Generate a random variable with 100 datapoints using the code distributionvar = np.random.distributionname([arguments], 100), replacing distributionvar with an appropriate variable name and distributionname with the name of the distribution you’ve chosen, and filling in the empty space in the parentheses with your chosen values for the appropriate parameters. If you feel uncertain about how to do this, go back to the “Other Distributions” assignment for examples of code to use as a starting point.\n",
    "2. Graph the variable using a histogram.\n",
    "3. Compute the mean and standard deviation and plot them as vertical lines on the histogram. (Hint: the “When Does It Break?” assignment you just completed can help you here.)\n",
    "4. Evaluate whether the descriptive statistics provided useful information about the variable. Can you identify any common characteristics of the distributions that could be usefully described using the mean and/or standard deviation, versus the ones that could not?\n",
    "\n",
    "Additionally:\n",
    "\n",
    "1. Generate two normally-distributed variables, one with a mean of 5 and standard deviation of 0.5, and the other with a mean of 10 and standard deviation of 1.\n",
    "2. Add them together to create a third variable.\n",
    "3. Graph the third variable using a histogram.\n",
    "4. Compute the mean and standard deviation and plot them as vertical lines on the histogram.\n",
    "5. Evaluate the descriptive statistics against the data.\n"
   ]
  },
  {
   "cell_type": "markdown",
   "metadata": {},
   "source": [
    "### Chosen Distribution methods\n",
    "1. Hypergeometric\n",
    "2. Logseries\n",
    "3. Weibull"
   ]
  },
  {
   "cell_type": "code",
   "execution_count": 1,
   "metadata": {},
   "outputs": [],
   "source": [
    "import numpy as np\n",
    "import pandas as pd\n",
    "import matplotlib.pyplot as plt\n",
    "%matplotlib inline"
   ]
  },
  {
   "cell_type": "code",
   "execution_count": 2,
   "metadata": {},
   "outputs": [],
   "source": [
    "hypergeometric_var = np.random.hypergeometric(15, 15, 15, 1000)\n",
    "logseries_var = np.random.logseries(.64, 1000)\n",
    "weibull_var = np.random.weibull(1.58, 1000)\n",
    "\n",
    "hypergeometric_var.sort()\n",
    "logseries_var.sort()\n",
    "weibull_var.sort()"
   ]
  },
  {
   "cell_type": "code",
   "execution_count": 3,
   "metadata": {},
   "outputs": [
    {
     "data": {
      "image/png": "[encoded data removed]",
      "text/plain": [
       "<Figure size 1080x360 with 3 Axes>"
      ]
     },
     "metadata": {
      "needs_background": "light"
     },
     "output_type": "display_data"
    }
   ],
   "source": [
    "plt.figure(figsize=(15,5))\n",
    "\n",
    "plt.subplot(1, 3, 1)\n",
    "plt.hist(hypergeometric_var, bins=20, color='c')\n",
    "plt.axvline(hypergeometric_var.mean(), color='b', linestyle='solid', linewidth=2)\n",
    "plt.axvline(hypergeometric_var.mean()+hypergeometric_var.std(), color='b', linestyle='dashed', linewidth=2)\n",
    "plt.axvline(hypergeometric_var.mean()-hypergeometric_var.std(), color='b', linestyle='dashed', linewidth=2)\n",
    "\n",
    "plt.subplot(1, 3, 2)\n",
    "plt.hist(logseries_var, bins=20, color='c')\n",
    "plt.axvline(logseries_var.mean(), color='b', linestyle='solid', linewidth=2)\n",
    "plt.axvline(logseries_var.mean() + logseries_var.std(), color='b', linestyle='dashed', linewidth=2)\n",
    "plt.axvline(logseries_var.mean() - logseries_var.std(), color='b', linestyle='dashed', linewidth=2)\n",
    "\n",
    "plt.subplot(1, 3, 3)\n",
    "plt.hist(weibull_var, bins=20, color='c')\n",
    "plt.axvline(weibull_var.mean(), color='b', linestyle='solid', linewidth=2)\n",
    "plt.axvline(weibull_var.mean() + weibull_var.std(), color='b', linestyle='dashed', linewidth=2)\n",
    "plt.axvline(weibull_var.mean() - weibull_var.std(), color='b', linestyle='dashed', linewidth=2)\n",
    "\n",
    "plt.show()"
   ]
  },
  {
   "cell_type": "code",
   "execution_count": 4,
   "metadata": {},
   "outputs": [],
   "source": [
    "norm1 = np.random.normal(5, 0.5, 1000)\n",
    "norm2 = np.random.normal(10, 1, 1000)\n",
    "norm3 = norm1 + norm2\n",
    "norm3.sort()"
   ]
  },
  {
   "cell_type": "code",
   "execution_count": 5,
   "metadata": {},
   "outputs": [
    {
     "data": {
      "image/png": "[encoded data removed]",
      "text/plain": [
       "<Figure size 432x288 with 1 Axes>"
      ]
     },
     "metadata": {
      "needs_background": "light"
     },
     "output_type": "display_data"
    }
   ],
   "source": [
    "plt.hist(norm3, bins=20, color='c')\n",
    "plt.axvline(norm3.mean(), color='b', linestyle='solid', linewidth=2)\n",
    "plt.axvline(norm3.mean() + norm3.std(), color='b', linestyle='dashed', linewidth=2)\n",
    "plt.axvline(norm3.mean() - norm3.std(), color='b', linestyle='dashed', linewidth=2)\n",
    "plt.show()"
   ]
  }
 ],
 "metadata": {
  "kernelspec": {
   "display_name": "Python 3",
   "language": "python",
   "name": "python3"
  },
  "language_info": {
   "codemirror_mode": {
    "name": "ipython",
    "version": 3
   },
   "file_extension": ".py",
   "mimetype": "text/x-python",
   "name": "python",
   "nbconvert_exporter": "python",
   "pygments_lexer": "ipython3",
   "version": "3.7.0"
  }
 },
 "nbformat": 4,
 "nbformat_minor": 2
}
