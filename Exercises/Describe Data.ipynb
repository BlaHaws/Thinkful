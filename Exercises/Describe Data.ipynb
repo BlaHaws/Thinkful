{
 "cells": [
  {
   "cell_type": "markdown",
   "metadata": {},
   "source": [
    "Now that we have introduced some tools for describing populations, let's try them out. First do these drills by hand, then use the Python code we've provided in the previous assignments to check your work. Keep track of your work in a Google document or markdown file that you can submit below and share with your mentor.\n",
    "\n",
    "1. Greg was 14, Marcia was 12, Peter was 11, Jan was 10, Bobby was 8, and Cindy was 6 when they started playing the Brady kids on The Brady Bunch. Cousin Oliver was 8 years old when he joined the show. What are the mean, median, and mode of the kids' ages when they first appeared on the show? What are the variance, standard deviation, and standard error?\n",
    "2. Using these estimates, if you had to choose only one estimate of central tendency and one estimate of variance to describe the data, which would you pick and why?\n",
    "3. Next, Cindy has a birthday. Update your estimates- what changed, and what didn't?\n",
    "4. Nobody likes Cousin Oliver. Maybe the network should have used an even younger actor. Replace Cousin Oliver with 1-year-old Jessica, then recalculate again. Does this change your choice of central tendency or variance estimation methods?\n",
    "\n",
    "5. On the 50th anniversary of The Brady Bunch, four different magazines asked their readers whether they were fans of the show. The answers were: TV Guide 20% fans Entertainment Weekly 23% fans Pop Culture Today 17% fans SciPhi Phanatic 5% fans\n",
    "\n",
    "6. Based on these numbers, what percentage of adult Americans would you estimate were Brady Bunch fans on the 50th anniversary of the show?\n"
   ]
  },
  {
   "cell_type": "markdown",
   "metadata": {},
   "source": [
    "1. **Mean** 9.857142857142858 (9.9) **Median** 10.0 (10.0) **Mode** 8 (8.0) <br>\n",
    "    **Variance** 6.408163265306122 (6.4) **Standard Deviation** 2.734262327610589 (2.7) **Standard Error** 1.0334540197243192 (1.0)\n",
    "2. I would choose to use the median of the ages given, and the standard deviation. The median is a good middle of the group of ages, and using the standard deviation, up 3 down 3, and you practically hit the highest and lowest ages.\n",
    "3. **Mean** 10.0 (10.0) **Median** 10.0 (10.0) **Mode** 8 (8.0) <br>\n",
    "    **Variance** 5.428571428571429 (5.4) **Standard Deviation** 2.516611478423583 (2.5) **Standard Error** 0.9511897312113418 (1.0) <br>\n",
    "    Mean changed by .1, median stayed the same, mode stayed the same, variance changed 1.0, standard deviation dropped .2, and standard error remained roughly the same.\n",
    "4. **Mean** 9.0 (10.0) **Median** 10.0 (10.0) **Mode** N\\A <br>\n",
    "    **Variance** 15.428571428571429 (5.4) **Standard Deviation** 4.242640687119285 (2.5) **Standard Error** 1.6035674514745462 (1.6) <br>\n",
    "    It doesn't changed my choices.\n",
    "5. / 6. 18.5%"
   ]
  },
  {
   "cell_type": "code",
   "execution_count": 14,
   "metadata": {},
   "outputs": [],
   "source": [
    "import numpy as np\n",
    "import statistics as st"
   ]
  },
  {
   "cell_type": "code",
   "execution_count": 29,
   "metadata": {},
   "outputs": [],
   "source": [
    "greg = 14\n",
    "marcia = 12\n",
    "peter = 11\n",
    "jan = 10\n",
    "bobby = 8\n",
    "oliver = 8\n",
    "cindy = 7\n",
    "ages = [14, 12, 11, 10, 8, 1, 7]\n",
    "fans = [20, 23, 17, 5]"
   ]
  },
  {
   "cell_type": "code",
   "execution_count": 34,
   "metadata": {},
   "outputs": [],
   "source": [
    "mean = np.mean(fans)\n",
    "median = np.median(fans)\n",
    "#mode = st.mode(fans)\n",
    "variance = np.var(fans)\n",
    "std = np.std(fans, ddof=1)\n",
    "error = np.std(fans, ddof=1) / np.sqrt(len(fans))"
   ]
  },
  {
   "cell_type": "code",
   "execution_count": 35,
   "metadata": {},
   "outputs": [
    {
     "name": "stdout",
     "output_type": "stream",
     "text": [
      "16.25\n",
      "18.5\n",
      "46.6875\n",
      "7.88986691902975\n",
      "3.944933459514875\n"
     ]
    }
   ],
   "source": [
    "print(mean)\n",
    "print(median)\n",
    "print(variance)\n",
    "print(std)\n",
    "print(error)"
   ]
  },
  {
   "cell_type": "code",
   "execution_count": null,
   "metadata": {},
   "outputs": [],
   "source": []
  }
 ],
 "metadata": {
  "kernelspec": {
   "display_name": "Python 3",
   "language": "python",
   "name": "python3"
  },
  "language_info": {
   "codemirror_mode": {
    "name": "ipython",
    "version": 3
   },
   "file_extension": ".py",
   "mimetype": "text/x-python",
   "name": "python",
   "nbconvert_exporter": "python",
   "pygments_lexer": "ipython3",
   "version": "3.7.0"
  }
 },
 "nbformat": 4,
 "nbformat_minor": 2
}
