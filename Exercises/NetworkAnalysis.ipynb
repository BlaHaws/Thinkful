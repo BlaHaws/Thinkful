{
 "cells": [
  {
   "cell_type": "code",
   "execution_count": 1,
   "metadata": {},
   "outputs": [],
   "source": [
    "import pandas as pd\n",
    "import numpy as np\n",
    "import matplotlib.pyplot as plt\n",
    "import seaborn as sns\n",
    "import networkx as nx\n",
    "import scipy\n",
    "%matplotlib inline"
   ]
  },
  {
   "cell_type": "code",
   "execution_count": 16,
   "metadata": {},
   "outputs": [],
   "source": [
    "df = pd.read_csv('C:/duh/Thinkful/Thinkful/Exercises/CA-AstroPh.csv', sep='\\s+')"
   ]
  },
  {
   "cell_type": "code",
   "execution_count": 17,
   "metadata": {},
   "outputs": [],
   "source": [
    "tuples = [(x[0], x[1]) for x in df.values]"
   ]
  },
  {
   "cell_type": "code",
   "execution_count": 18,
   "metadata": {},
   "outputs": [],
   "source": [
    "citations = nx.Graph()"
   ]
  },
  {
   "cell_type": "code",
   "execution_count": 19,
   "metadata": {},
   "outputs": [],
   "source": [
    "citations.add_edges_from(tuples)"
   ]
  },
  {
   "cell_type": "code",
   "execution_count": null,
   "metadata": {},
   "outputs": [],
   "source": [
    "plt.rcParams['figure.figsize']=[12,12]\n",
    "nx.draw_networkx(citations,\n",
    "                 pos=nx.spring_layout(citations,weight='weights'), \n",
    "                 node_color='lightblue',\n",
    "                 edge_color='gray',\n",
    "                 node_size=100,\n",
    "                 with_labels=False,\n",
    "                 alpha=.8\n",
    "                 )\n",
    "plt.axis('off')\n",
    "plt.show()"
   ]
  },
  {
   "cell_type": "code",
   "execution_count": null,
   "metadata": {},
   "outputs": [],
   "source": [
    "numberofnodes=citations.number_of_nodes()\n",
    "nodedegrees=list(dict(citations.degree).values())\n",
    "av_degree=np.mean(nodedegrees)\n",
    "med_degree=np.median(nodedegrees)\n",
    "clustering=list(nx.clustering(citations).values())\n",
    "betweenness_cent=list(nx.betweenness_centrality(citations).values())\n",
    "componentsizes=[len(c) for c in sorted(\n",
    "    nx.connected_components(citations), key=len, reverse=True)]\n",
    "\n",
    "print(\"This graph has {} nodes and {} edges.\".format(\n",
    "    citations.number_of_nodes(),citations.number_of_edges()))\n",
    "\n",
    "print(\"The median degree is {} and the mean degree is {}.\".format(med_degree,av_degree))\n",
    "\n",
    "print(\"A disease node with median degree is connected to {}% of other diseases.\".format(\n",
    "    (med_degree/numberofnodes)*100))\n",
    "\n",
    "print(\"There are {} connected components within the graph.\".format(\n",
    "    nx.number_connected_components(citations)))\n",
    "\n",
    "plt.rcParams['figure.figsize']=[6,4]\n",
    "\n",
    "plt.hist(nodedegrees)\n",
    "plt.title('Degrees')\n",
    "plt.show()\n",
    "\n",
    "plt.hist(clustering)\n",
    "plt.title('Clustering')\n",
    "plt.show()\n",
    "\n",
    "plt.hist(betweenness_cent)\n",
    "plt.title('Betweenness')\n",
    "plt.show()\n",
    "\n",
    "plt.hist(componentsizes)\n",
    "plt.title('Connected components')\n",
    "plt.show()"
   ]
  },
  {
   "cell_type": "code",
   "execution_count": null,
   "metadata": {},
   "outputs": [],
   "source": [
    "graph_stats=pd.DataFrame({'node':list(dict(citations.degree()).keys()),\n",
    "                          'degree':list(dict(citations.degree()).values()),\n",
    "                          'clustering':list(nx.clustering(citations).values()),\n",
    "                          'betweenness_cent':list(\n",
    "                              nx.betweenness_centrality(citations).values())\n",
    "                         })\n",
    "\n",
    "# Assigning each node to a component by number.\n",
    "graph_stats['component']=None\n",
    "\n",
    "# Sorting the components by size so that the largest component will be numbered 0.\n",
    "components=sorted(nx.connected_components(citations), key=len, reverse=True)\n",
    "for i,component in enumerate(components):\n",
    "    graph_stats.loc[graph_stats['node'].isin(list(component)),'component']=i\n",
    "    \n",
    "print(graph_stats.head())"
   ]
  },
  {
   "cell_type": "code",
   "execution_count": null,
   "metadata": {},
   "outputs": [],
   "source": [
    "graph_stats['log_between']=np.log(graph_stats['betweenness_cent']+.001)\n",
    "graph_stats['log_degree']=np.log(graph_stats['degree']+1)\n",
    "\n",
    "g = sns.pairplot(graph_stats,\n",
    "                 vars=['log_between','clustering','log_degree'],\n",
    "                 kind='scatter',\n",
    "                plot_kws={'alpha':.3})\n",
    "plt.show()"
   ]
  }
 ],
 "metadata": {
  "kernelspec": {
   "display_name": "Python 3",
   "language": "python",
   "name": "python3"
  },
  "language_info": {
   "codemirror_mode": {
    "name": "ipython",
    "version": 3
   },
   "file_extension": ".py",
   "mimetype": "text/x-python",
   "name": "python",
   "nbconvert_exporter": "python",
   "pygments_lexer": "ipython3",
   "version": "3.7.3"
  }
 },
 "nbformat": 4,
 "nbformat_minor": 2
}
