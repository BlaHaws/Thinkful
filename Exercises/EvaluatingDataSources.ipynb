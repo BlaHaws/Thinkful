{
 "cells": [
  {
   "cell_type": "markdown",
   "metadata": {},
   "source": [
    "In each of the scenarios, find possible shortcomings of the theoretical or actual data sources to answer the given question. What could be done to either adjust the analysis or reframe the question so that you can answer it accurately?\n",
    "* **Data Source**: Amsterdam availability data scraped from AirBnB on December 24th. **Question**: What are the popular neighborhoods in Amsterdam?\n",
    "* **Data Source**: Mental health services use on September 12, 2001 in San Francisco, CA and New York City, NY. **Question**: How do patterns of mental health service use vary between cities?\n",
    "* **Data Source**: Armenian Pub Survey. **Question**: What are the most common reasons Armenians visit local pubs?"
   ]
  },
  {
   "cell_type": "markdown",
   "metadata": {},
   "source": [
    "1. Rephrasing the question to \"What are the popular neighborhoods in Amsterdam during Christmas?\"\n",
    "2. Rephrasing the question to \"How does proximity to a traumatic event affect the use of mental health service?\"\n",
    "3. Rephrasing the question to \"What are the most common reasons Armenians aged 16-23 visit local pubs?\""
   ]
  },
  {
   "cell_type": "code",
   "execution_count": null,
   "metadata": {},
   "outputs": [],
   "source": []
  }
 ],
 "metadata": {
  "kernelspec": {
   "display_name": "Python 3",
   "language": "python",
   "name": "python3"
  },
  "language_info": {
   "codemirror_mode": {
    "name": "ipython",
    "version": 3
   },
   "file_extension": ".py",
   "mimetype": "text/x-python",
   "name": "python",
   "nbconvert_exporter": "python",
   "pygments_lexer": "ipython3",
   "version": "3.7.0"
  }
 },
 "nbformat": 4,
 "nbformat_minor": 2
}
