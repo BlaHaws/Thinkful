{
 "cells": [
  {
   "cell_type": "markdown",
   "metadata": {},
   "source": [
    "# Unit 3, Lesson 3, part 7\n",
    "\n",
    "Now that you have some code to create your own populations, sample them, and compare the samples to the populations, it's time to experiment. Using your own Jupyter notebook, or a copy of the notebook from the previous assignment, reproduce the pop1 and pop2 populations and samples, using numpy's binomial function. Specifically, create two binomially distributed populations with n equal to 10 and size equal to 10000. The p-value of pop1 should be 0.2 and the p-value of pop2 should be 0.5. Using a sample size of 100, calculate the means and standard deviations of your samples.\n",
    "\n",
    "For each of the following tasks, first write what you expect will happen, then code the changes and observe what does happen. Discuss the results with your mentor.\n",
    "\n",
    "1. Increase the size of your samples from 100 to 1000, then calculate the means and standard deviations for your new samples and create histograms for each. Repeat this again, decreasing the size of your samples to 20. What values change, and what remain the same?\n",
    "\n",
    "2. Change the probability value (p in the NumPy documentation) for pop1 to 0.3, then take new samples and compute the t-statistic and p-value. Then change the probability value p for group 1 to 0.4, and do it again. What changes, and why?\n",
    "\n",
    "3. Change the distribution of your populations from binomial to a distribution of your choice. Do the sample mean values still accurately represent the population values?\n"
   ]
  },
  {
   "cell_type": "markdown",
   "metadata": {},
   "source": [
    "# Self Answers\n",
    "1. All values changed\n",
    "2. The difference in the samples is reduced as the p-value trends closer to 1. The two samples are becoming (practically) the same sample.\n",
    "3. "
   ]
  },
  {
   "cell_type": "code",
   "execution_count": 22,
   "metadata": {},
   "outputs": [],
   "source": [
    "import numpy as np\n",
    "import pandas as pd\n",
    "from scipy.stats import ttest_ind\n",
    "import matplotlib.pyplot as plt\n",
    "%matplotlib inline"
   ]
  },
  {
   "cell_type": "code",
   "execution_count": 19,
   "metadata": {},
   "outputs": [],
   "source": [
    "pop1 = np.random.binomial(10, .2, 10000)\n",
    "pop2 = np.random.binomial(10, .5, 10000)\n",
    "pop3 = np.random.binomial(10, .3, 10000)\n",
    "pop4 = np.random.binomial(10, .4, 10000)"
   ]
  },
  {
   "cell_type": "code",
   "execution_count": 20,
   "metadata": {},
   "outputs": [],
   "source": [
    "sample1 = np.random.choice(pop1, 100, replace=True)\n",
    "sample2 = np.random.choice(pop2, 100, replace=True)\n",
    "sample3 = np.random.choice(pop3, 100, replace=True)\n",
    "sample4 = np.random.choice(pop4, 100, replace=True)"
   ]
  },
  {
   "cell_type": "code",
   "execution_count": 25,
   "metadata": {},
   "outputs": [],
   "source": [
    "sample1_mean = sample1.mean()\n",
    "sample1_std = sample1.std()\n",
    "sample2_mean = sample2.mean()\n",
    "sample2_std = sample2.std()\n",
    "diff = sample2_mean - sample1_mean"
   ]
  },
  {
   "cell_type": "code",
   "execution_count": 27,
   "metadata": {},
   "outputs": [
    {
     "name": "stdout",
     "output_type": "stream",
     "text": [
      "2.21\n",
      "1.402105559506844\n",
      "5.37\n",
      "1.5010329776523899\n",
      "3.16\n"
     ]
    },
    {
     "data": {
      "image/png": "[encoded data removed]",
      "text/plain": [
       "<Figure size 432x288 with 1 Axes>"
      ]
     },
     "metadata": {
      "needs_background": "light"
     },
     "output_type": "display_data"
    }
   ],
   "source": [
    "print(sample1_mean)\n",
    "print(sample1_std)\n",
    "print(sample2_mean)\n",
    "print(sample2_std)\n",
    "print(diff)\n",
    "\n",
    "plt.hist(sample1, alpha=.5, label=\"Sample 1 (100)\")\n",
    "plt.hist(sample2, alpha=.5, label=\"Sample 2 (100)\")\n",
    "plt.legend(loc=\"best\")\n",
    "\n",
    "plt.show()"
   ]
  },
  {
   "cell_type": "markdown",
   "metadata": {},
   "source": [
    "# Start code changes"
   ]
  },
  {
   "cell_type": "code",
   "execution_count": 6,
   "metadata": {},
   "outputs": [],
   "source": [
    "nsample1 = np.random.choice(pop1, 1000, replace=True)\n",
    "nsample2 = np.random.choice(pop2, 1000, replace=True)\n",
    "nsample1_mean = nsample1.mean()\n",
    "nsample1_std = nsample1.std()\n",
    "nsample2_mean = nsample2.mean()\n",
    "nsample2_std = nsample2.std()"
   ]
  },
  {
   "cell_type": "code",
   "execution_count": 7,
   "metadata": {},
   "outputs": [],
   "source": [
    "nnsample1 = np.random.choice(pop1, 20, replace=True)\n",
    "nnsample2 = np.random.choice(pop2, 20, replace=True)\n",
    "nnsample1_mean = nnsample1.mean()\n",
    "nnsample1_std = nnsample1.std()\n",
    "nnsample2_mean = nnsample2.mean()\n",
    "nnsample2_std = nnsample2.std()"
   ]
  },
  {
   "cell_type": "code",
   "execution_count": 15,
   "metadata": {},
   "outputs": [
    {
     "data": {
      "image/png": "[encoded data removed]",
      "text/plain": [
       "<Figure size 720x360 with 2 Axes>"
      ]
     },
     "metadata": {
      "needs_background": "light"
     },
     "output_type": "display_data"
    }
   ],
   "source": [
    "plt.figure(figsize=(10,5))\n",
    "\n",
    "plt.subplot(1, 2, 1)\n",
    "plt.hist(nsample1, alpha=.5, label=\"Sample 1 (1000)\")\n",
    "plt.hist(nsample2, alpha=.5, label=\"Sample 2 (1000)\")\n",
    "plt.legend(loc=\"best\")\n",
    "\n",
    "plt.subplot(1, 2, 2)\n",
    "plt.hist(nnsample1, alpha=.5, label=\"Sample 1 (20)\")\n",
    "plt.hist(nnsample2, alpha=.5, label=\"Sample 2 (20)\")\n",
    "plt.legend(loc=\"best\")\n",
    "\n",
    "plt.show()"
   ]
  },
  {
   "cell_type": "code",
   "execution_count": 8,
   "metadata": {},
   "outputs": [
    {
     "name": "stdout",
     "output_type": "stream",
     "text": [
      "1.995\n",
      "1.2668760791805962\n",
      "4.982\n",
      "1.549734170753165\n"
     ]
    }
   ],
   "source": [
    "print(nsample1_mean)\n",
    "print(nsample1_std)\n",
    "print(nsample2_mean)\n",
    "print(nsample2_std)"
   ]
  },
  {
   "cell_type": "code",
   "execution_count": 16,
   "metadata": {},
   "outputs": [
    {
     "name": "stdout",
     "output_type": "stream",
     "text": [
      "2.25\n",
      "1.4097872179871684\n",
      "4.5\n",
      "1.2041594578792296\n"
     ]
    }
   ],
   "source": [
    "print(nnsample1_mean)\n",
    "print(nnsample1_std)\n",
    "print(nnsample2_mean)\n",
    "print(nnsample2_std)"
   ]
  },
  {
   "cell_type": "code",
   "execution_count": 24,
   "metadata": {},
   "outputs": [
    {
     "name": "stdout",
     "output_type": "stream",
     "text": [
      "Ttest_indResult(statistic=15.30734664602426, pvalue=2.279990625510833e-35)\n",
      "Ttest_indResult(statistic=10.620020613560975, pvalue=3.85315191474054e-21)\n",
      "Ttest_indResult(statistic=6.0584881281857905, pvalue=6.809400208093863e-09)\n"
     ]
    }
   ],
   "source": [
    "print(ttest_ind(sample2, sample1, equal_var=False))\n",
    "print(ttest_ind(sample2, sample3, equal_var=False))\n",
    "print(ttest_ind(sample2, sample4, equal_var=False))"
   ]
  },
  {
   "cell_type": "code",
   "execution_count": null,
   "metadata": {},
   "outputs": [],
   "source": []
  }
 ],
 "metadata": {
  "kernelspec": {
   "display_name": "Python 3",
   "language": "python",
   "name": "python3"
  },
  "language_info": {
   "codemirror_mode": {
    "name": "ipython",
    "version": 3
   },
   "file_extension": ".py",
   "mimetype": "text/x-python",
   "name": "python",
   "nbconvert_exporter": "python",
   "pygments_lexer": "ipython3",
   "version": "3.7.0"
  }
 },
 "nbformat": 4,
 "nbformat_minor": 2
}
