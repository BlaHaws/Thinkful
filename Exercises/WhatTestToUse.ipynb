{
 "cells": [
  {
   "cell_type": "code",
   "execution_count": 52,
   "metadata": {},
   "outputs": [],
   "source": [
    "import numpy as np\n",
    "import pandas as pd\n",
    "import scipy\n",
    "import sklearn\n",
    "import matplotlib.pyplot as plt\n",
    "import seaborn as sns\n",
    "import re\n",
    "\n",
    "from scipy.stats import ttest_rel\n",
    "from statsmodels.stats.multicomp import pairwise_tukeyhsd"
   ]
  },
  {
   "cell_type": "code",
   "execution_count": 3,
   "metadata": {},
   "outputs": [],
   "source": [
    "df = pd.read_csv('C://duh/Thinkful/Thinkful/Exercises/ESSdata_Thinkful.csv')"
   ]
  },
  {
   "cell_type": "markdown",
   "metadata": {},
   "source": [
    "## Question 1: Did people become less trusting from 2012 to 2014?"
   ]
  },
  {
   "cell_type": "markdown",
   "metadata": {},
   "source": [
    "As we are sampling data from the same group of individuals at two different intervals, we can use a paired t-test to determine if there was a significant change (p-value < .05) of the variable. Below we preform the t-test by country."
   ]
  },
  {
   "cell_type": "code",
   "execution_count": 28,
   "metadata": {},
   "outputs": [
    {
     "name": "stdout",
     "output_type": "stream",
     "text": [
      "CH: Ttest_relResult(statistic=-7.545279881012309, pvalue=4.973673677536414e-14)\n",
      "CZ: Ttest_relResult(statistic=-6.266607249553316, pvalue=3.8675093938077733e-10)\n",
      "DE: Ttest_relResult(statistic=-115.19602575005474, pvalue=0.0)\n",
      "ES: Ttest_relResult(statistic=17.69259127652905, pvalue=7.874276849981533e-69)\n",
      "NO: Ttest_relResult(statistic=6.405569141080134, pvalue=1.5767678360926647e-10)\n",
      "SE: Ttest_relResult(statistic=-19.80502117138594, pvalue=2.1226895786010704e-85)\n"
     ]
    }
   ],
   "source": [
    "for cntry in df.cntry.unique():\n",
    "    print(cntry + ': ' + str(ttest_rel(\n",
    "        df.ppltrst.where(df.cntry == cntry).where(df.year == 6).fillna(df.ppltrst.where(df.cntry == cntry).where(df.year == 6).mean()),\n",
    "        df.ppltrst.where(df.cntry == cntry).where(df.year == 7).fillna(df.ppltrst.where(df.cntry == cntry).where(df.year == 7).mean())\n",
    "            )\n",
    "        )\n",
    "    )"
   ]
  },
  {
   "cell_type": "markdown",
   "metadata": {},
   "source": [
    "It seems there was a significant change for each country."
   ]
  },
  {
   "cell_type": "markdown",
   "metadata": {},
   "source": [
    "Here, we can determine rather the mean went up or down per country."
   ]
  },
  {
   "cell_type": "code",
   "execution_count": 7,
   "metadata": {},
   "outputs": [
    {
     "name": "stdout",
     "output_type": "stream",
     "text": [
      "CH\n",
      "2012: 5.677878395860285\n",
      "2014: 5.751617076326003\n",
      "Difference between 2014 and 2012: 0.07373868046571808\n",
      "CZ\n",
      "2012: 4.362519201228879\n",
      "2014: 4.424657534246576\n",
      "Difference between 2014 and 2012: 0.062138333017697\n",
      "DE\n",
      "2012: 5.214285714285714\n",
      "2014: 5.357142857142857\n",
      "Difference between 2014 and 2012: 0.14285714285714235\n",
      "ES\n",
      "2012: 5.114591920857379\n",
      "2014: 4.895127993393889\n",
      "Difference between 2014 and 2012: -0.2194639274634893\n",
      "NO\n",
      "2012: 6.64931506849315\n",
      "2014: 6.598630136986301\n",
      "Difference between 2014 and 2012: -0.05068493150684894\n",
      "SE\n",
      "2012: 6.058498896247241\n",
      "2014: 6.257709251101321\n",
      "Difference between 2014 and 2012: 0.19921035485408023\n"
     ]
    }
   ],
   "source": [
    "for cntry in df.cntry.unique():\n",
    "    print(cntry)\n",
    "    print('2012: ' + str(df.where(df.cntry == cntry).ppltrst.where(df.year == 6).mean()))\n",
    "    print('2014: ' + str(df.where(df.cntry == cntry).ppltrst.where(df.year == 7).mean()))\n",
    "    print('Difference between 2014 and 2012: ' + str(df.where(df.cntry == cntry).ppltrst.where(df.year == 7).mean() - df.where(df.cntry == cntry).ppltrst.where(df.year == 6).mean()))"
   ]
  },
  {
   "cell_type": "markdown",
   "metadata": {},
   "source": [
    "We have determined that for Spain and Norway, people became less trusting in 2014 than in 2012. However, Switzerland, Czech Republic, Germany, and Swedem seem to have become more trusting over the same period."
   ]
  },
  {
   "cell_type": "markdown",
   "metadata": {},
   "source": [
    "However, if we look at the European nations on a whole, it seems there was no significant change in the populace."
   ]
  },
  {
   "cell_type": "code",
   "execution_count": 8,
   "metadata": {
    "scrolled": true
   },
   "outputs": [
    {
     "data": {
      "text/plain": [
       "Ttest_relResult(statistic=-0.030123296813187022, pvalue=0.9759701202629605)"
      ]
     },
     "execution_count": 8,
     "metadata": {},
     "output_type": "execute_result"
    }
   ],
   "source": [
    "ttest_rel(df6.ppltrst, df7.ppltrst)"
   ]
  },
  {
   "cell_type": "code",
   "execution_count": 36,
   "metadata": {},
   "outputs": [
    {
     "data": {
      "text/plain": [
       "5.551547591342797"
      ]
     },
     "execution_count": 36,
     "metadata": {},
     "output_type": "execute_result"
    }
   ],
   "source": [
    "df7.ppltrst.mean()"
   ]
  },
  {
   "cell_type": "markdown",
   "metadata": {},
   "source": [
    "It seems the average person within these nations are just slightly more trusting (.55)."
   ]
  },
  {
   "cell_type": "markdown",
   "metadata": {},
   "source": [
    "## Question 2: Did people become happier from 2012 to 2014?"
   ]
  },
  {
   "cell_type": "markdown",
   "metadata": {},
   "source": [
    "Once again, a paired T-test will tell us if there was a significant change in the populations level of happiness between the 2 years."
   ]
  },
  {
   "cell_type": "code",
   "execution_count": 30,
   "metadata": {
    "scrolled": true
   },
   "outputs": [
    {
     "name": "stdout",
     "output_type": "stream",
     "text": [
      "CH: Ttest_relResult(statistic=-4.328989427869167, pvalue=1.5149310750553136e-05)\n",
      "CZ: Ttest_relResult(statistic=-17.271720901642983, pvalue=9.815124409083466e-66)\n",
      "DE: Ttest_relResult(statistic=-487.2056539960446, pvalue=0.0)\n",
      "ES: Ttest_relResult(statistic=11.874029787065616, pvalue=2.884990664421458e-32)\n",
      "NO: Ttest_relResult(statistic=50.31542849582996, pvalue=0.0)\n",
      "SE: Ttest_relResult(statistic=-5.455700224829404, pvalue=5.0136369974441104e-08)\n"
     ]
    }
   ],
   "source": [
    "for cntry in df.cntry.unique():\n",
    "    print(cntry + ': ' + str(ttest_rel(df.happy.where(df.cntry == cntry).where(df.year == 6).fillna(df.happy.where(df.cntry == cntry).where(df.year == 6).mean()), df.happy.where(df.cntry == cntry).where(df.year ==7).fillna(df.happy.where(df.cntry == cntry).where(df.year == 7).mean()))))"
   ]
  },
  {
   "cell_type": "markdown",
   "metadata": {},
   "source": [
    "Once again, it seems every country has had a significant change."
   ]
  },
  {
   "cell_type": "markdown",
   "metadata": {},
   "source": [
    "Let's see if each country became more or less happy after 2 years."
   ]
  },
  {
   "cell_type": "code",
   "execution_count": 34,
   "metadata": {},
   "outputs": [
    {
     "name": "stdout",
     "output_type": "stream",
     "text": [
      "CH: 0.028117807160498387\n",
      "CZ: 0.1432125966305149\n",
      "DE: 0.42857142857142794\n",
      "ES: -0.12871287128712883\n",
      "NO: -0.33653471625046905\n",
      "SE: 0.03957433588967341\n"
     ]
    }
   ],
   "source": [
    "for cntry in df.cntry.unique():\n",
    "        print(cntry + ': ' + str(df.happy.where(df.cntry == cntry).where(df.year == 7).mean() - df.happy.where(df.cntry == cntry).where(df.year == 6).mean()))"
   ]
  },
  {
   "cell_type": "markdown",
   "metadata": {},
   "source": [
    "Interestingly, we once again see Spain and Norway have a decrease in their mean score. There is not enough evidence to concisely say there is a link between happiness and a sense of trust of fellow humanity, but this provokes an interesting question to explore."
   ]
  },
  {
   "cell_type": "markdown",
   "metadata": {},
   "source": [
    "How have these European nations, as a whole, changed in their level of happiness, though?"
   ]
  },
  {
   "cell_type": "code",
   "execution_count": 38,
   "metadata": {},
   "outputs": [
    {
     "name": "stdout",
     "output_type": "stream",
     "text": [
      "Ttest_relResult(statistic=3.094880565284599, pvalue=0.0019752498780666273)\n",
      "Mean (2014): 7.665733613249358\n"
     ]
    }
   ],
   "source": [
    "print(ttest_rel(df.happy.where(df.year == 6).fillna(df.happy.where(df.year == 6).mean()), df.happy.where(df.year == 7).fillna(df.happy.where(df.year == 7).mean())))\n",
    "print('Mean (2014): ' + str(df.happy.where(df.year == 7).mean()))"
   ]
  },
  {
   "cell_type": "markdown",
   "metadata": {},
   "source": [
    "It's great to see that the average European is pretty happy."
   ]
  },
  {
   "cell_type": "markdown",
   "metadata": {},
   "source": [
    "## Question 3: Who reported watching more TV in 2012, men or women?"
   ]
  },
  {
   "cell_type": "code",
   "execution_count": 43,
   "metadata": {},
   "outputs": [
    {
     "name": "stdout",
     "output_type": "stream",
     "text": [
      "Men: 3.901906090190609\n",
      "Women: 3.944392523364486\n"
     ]
    }
   ],
   "source": [
    "print('Men: ' + str(df.tvtot.where(df.gndr == 1).where(df.year == 6).mean()))\n",
    "print('Women: ' + str(df.tvtot.where(df.gndr == 2).where(df.year == 6).mean()))"
   ]
  },
  {
   "cell_type": "markdown",
   "metadata": {},
   "source": [
    "It looks like women report watching more TV in 2012."
   ]
  },
  {
   "cell_type": "markdown",
   "metadata": {},
   "source": [
    "## Question 4: Who was more likely to believe people were fair in 2012, people living with a partner or people living alone?"
   ]
  },
  {
   "cell_type": "code",
   "execution_count": 45,
   "metadata": {},
   "outputs": [
    {
     "name": "stdout",
     "output_type": "stream",
     "text": [
      "Alone: 5.856965174129353\n",
      "With a partner: 6.080736012016523\n"
     ]
    }
   ],
   "source": [
    "print('Alone: ' + str(df.pplfair.where(df.partner == 2).where(df.year == 6).mean()))\n",
    "print('With a partner: ' + str(df.pplfair.where(df.partner == 1).where(df.year == 6).mean()))"
   ]
  },
  {
   "cell_type": "markdown",
   "metadata": {},
   "source": [
    "## Question 5: Compare how often people met socially in 2014. Are there differences, and if so, which countries stand out?"
   ]
  },
  {
   "cell_type": "code",
   "execution_count": 67,
   "metadata": {},
   "outputs": [
    {
     "name": "stdout",
     "output_type": "stream",
     "text": [
      "CH: Ttest_relResult(statistic=0.34358215591939695, pvalue=0.7311689520735488)\n",
      "CZ: Ttest_relResult(statistic=-78.53250897516027, pvalue=0.0)\n",
      "DE: Ttest_relResult(statistic=-66.87550387796877, pvalue=0.0)\n",
      "ES: Ttest_relResult(statistic=13.075209227632046, pvalue=1.0665762530835176e-38)\n",
      "NO: Ttest_relResult(statistic=15.967873492484532, pvalue=1.387370495973332e-56)\n",
      "SE: Ttest_relResult(statistic=31.29591736215175, pvalue=1.0468278382784641e-203)\n"
     ]
    }
   ],
   "source": [
    "for cntry in df.cntry.unique():\n",
    "    print(cntry + ': ' + str(\n",
    "        ttest_rel(\n",
    "            df.sclmeet.where(df.cntry == cntry).where(df.year == 7).fillna(df.sclmeet.where(df.cntry == cntry).where(df.year == 7).mean()),\n",
    "            df.sclmeet.where(df.cntry != cntry).where(df.year == 7).fillna(df.sclmeet.where(df.cntry != cntry).where(df.year == 7).mean())\n",
    "            )\n",
    "        )\n",
    "    )"
   ]
  },
  {
   "cell_type": "code",
   "execution_count": 69,
   "metadata": {
    "scrolled": true
   },
   "outputs": [
    {
     "name": "stdout",
     "output_type": "stream",
     "text": [
      "CH: 5.160621761658031Other Countries: 5.1568627450980395\n",
      "CZ: 4.445801526717557Other Countries: 5.2857535753575355\n",
      "DE: 4.428571428571429Other Countries: 5.159925181201777\n",
      "ES: 5.2601156069364166Other Countries: 5.117207792207792\n",
      "NO: 5.3023255813953485Other Countries: 5.127808988764045\n",
      "SE: 5.426211453744493Other Countries: 5.085427135678392\n"
     ]
    }
   ],
   "source": [
    "for cntry in df.cntry.unique():\n",
    "    print(cntry + ': ' + str(df.sclmeet.where(df.cntry == cntry).where(df.year == 7).mean()) + 'Other Countries: ' + str(df.sclmeet.where(df.cntry != cntry).where(df.year == 7).mean()))"
   ]
  },
  {
   "cell_type": "markdown",
   "metadata": {},
   "source": [
    "It seems that Switzerland meets as often as the average for the other countries, the Czech Republic and Germany meet less often, and Spain, Norway, and Sweden meet more often."
   ]
  },
  {
   "cell_type": "code",
   "execution_count": 98,
   "metadata": {},
   "outputs": [
    {
     "data": {
      "text/plain": [
       "count    8355.000000\n",
       "mean       47.470736\n",
       "std        18.397369\n",
       "min        15.000000\n",
       "25%        33.000000\n",
       "50%        47.000000\n",
       "75%        62.000000\n",
       "max       114.000000\n",
       "Name: agea, dtype: float64"
      ]
     },
     "execution_count": 98,
     "metadata": {},
     "output_type": "execute_result"
    }
   ],
   "source": [
    "df.agea.describe()"
   ]
  },
  {
   "cell_type": "markdown",
   "metadata": {},
   "source": [
    "## Question 6: Compare how often people took part in social activities, relative to others their age, in 2014."
   ]
  },
  {
   "cell_type": "code",
   "execution_count": 189,
   "metadata": {},
   "outputs": [],
   "source": [
    "agea = df.agea.where(df.year == 7).dropna().unique()\n",
    "agea.sort()"
   ]
  },
  {
   "cell_type": "code",
   "execution_count": 193,
   "metadata": {},
   "outputs": [
    {
     "name": "stdout",
     "output_type": "stream",
     "text": [
      "CH 15.0: False\n",
      "CH 16.0: False\n",
      "CH 17.0: False\n",
      "CH 18.0: False\n",
      "CH 19.0: False\n",
      "CH 20.0: False\n",
      "CH 21.0: False\n",
      "CH 22.0: False\n",
      "CH 23.0: False\n",
      "CH 24.0: False\n",
      "CH 25.0: False\n",
      "CH 26.0: False\n",
      "CH 27.0: False\n",
      "CH 28.0: False\n",
      "CH 29.0: False\n",
      "CH 30.0: False\n",
      "CH 31.0: False\n",
      "CH 32.0: False\n",
      "CH 33.0: False\n",
      "CH 34.0: False\n",
      "CH 35.0: False\n",
      "CH 36.0: False\n",
      "CH 37.0: False\n",
      "CH 38.0: False\n",
      "CH 39.0: False\n",
      "CH 40.0: False\n",
      "CH 41.0: False\n",
      "CH 42.0: False\n",
      "CH 43.0: False\n",
      "CH 44.0: False\n",
      "CH 45.0: False\n",
      "CH 46.0: False\n",
      "CH 47.0: False\n",
      "CH 48.0: False\n",
      "CH 49.0: False\n",
      "CH 50.0: False\n",
      "CH 51.0: False\n",
      "CH 52.0: False\n",
      "CH 53.0: False\n",
      "CH 54.0: False\n",
      "CH 55.0: False\n",
      "CH 56.0: False\n",
      "CH 57.0: False\n",
      "CH 58.0: False\n",
      "CH 59.0: False\n",
      "CH 60.0: False\n",
      "CH 61.0: False\n",
      "CH 62.0: False\n",
      "CH 63.0: False\n",
      "CH 64.0: False\n",
      "CH 65.0: False\n",
      "CH 67.0: False\n",
      "CH 68.0: False\n",
      "CH 69.0: False\n",
      "CH 70.0: False\n",
      "CH 71.0: False\n",
      "CH 72.0: False\n",
      "CH 73.0: False\n",
      "CH 74.0: False\n",
      "CH 75.0: False\n",
      "CH 76.0: False\n",
      "CH 78.0: False\n",
      "CH 79.0: False\n",
      "CH 80.0: False\n",
      "CH 81.0: False\n",
      "CH 82.0: False\n",
      "CH 83.0: False\n",
      "CH 84.0: False\n",
      "CH 85.0: False\n",
      "CH 86.0: False\n",
      "CH 87.0: False\n",
      "CH 89.0: False\n",
      "CH 90.0: False\n",
      "CH 91.0: False\n",
      "CH 92.0: False\n",
      "CH 93.0: False\n",
      "CH 94.0: False\n",
      "CH 95.0: False\n",
      "CH 101.0: False\n",
      "CH 114.0: False\n",
      "CZ 15.0: False\n",
      "CZ 16.0: False\n",
      "CZ 17.0: False\n",
      "CZ 18.0: False\n",
      "CZ 19.0: False\n",
      "CZ 20.0: False\n",
      "CZ 21.0: False\n",
      "CZ 22.0: False\n",
      "CZ 23.0: False\n",
      "CZ 24.0: False\n",
      "CZ 25.0: False\n",
      "CZ 26.0: False\n",
      "CZ 27.0: False\n",
      "CZ 28.0: False\n",
      "CZ 29.0: False\n",
      "CZ 30.0: False\n",
      "CZ 31.0: False\n",
      "CZ 32.0: False\n",
      "CZ 33.0: False\n",
      "CZ 34.0: False\n",
      "CZ 35.0: False\n",
      "CZ 36.0: False\n",
      "CZ 37.0: False\n",
      "CZ 38.0: False\n",
      "CZ 39.0: False\n",
      "CZ 40.0: False\n",
      "CZ 41.0: False\n",
      "CZ 42.0: False\n",
      "CZ 43.0: False\n",
      "CZ 44.0: False\n",
      "CZ 45.0: False\n",
      "CZ 46.0: False\n",
      "CZ 47.0: False\n",
      "CZ 48.0: False\n",
      "CZ 49.0: False\n",
      "CZ 50.0: False\n",
      "CZ 51.0: False\n",
      "CZ 52.0: False\n",
      "CZ 53.0: False\n",
      "CZ 54.0: False\n",
      "CZ 55.0: False\n",
      "CZ 56.0: False\n",
      "CZ 57.0: False\n",
      "CZ 58.0: False\n",
      "CZ 59.0: False\n",
      "CZ 60.0: False\n",
      "CZ 61.0: False\n",
      "CZ 62.0: False\n",
      "CZ 63.0: False\n",
      "CZ 64.0: False\n",
      "CZ 65.0: False\n",
      "CZ 67.0: False\n",
      "CZ 68.0: False\n",
      "CZ 69.0: False\n",
      "CZ 70.0: False\n",
      "CZ 71.0: False\n",
      "CZ 72.0: False\n",
      "CZ 73.0: False\n",
      "CZ 74.0: False\n",
      "CZ 75.0: False\n",
      "CZ 76.0: False\n",
      "CZ 78.0: False\n",
      "CZ 79.0: False\n",
      "CZ 80.0: False\n",
      "CZ 81.0: False\n",
      "CZ 82.0: False\n",
      "CZ 83.0: False\n",
      "CZ 84.0: False\n",
      "CZ 85.0: False\n",
      "CZ 86.0: False\n",
      "CZ 87.0: False\n",
      "CZ 89.0: False\n",
      "CZ 90.0: False\n",
      "CZ 91.0: False\n",
      "CZ 92.0: False\n",
      "CZ 93.0: False\n",
      "CZ 94.0: False\n",
      "CZ 95.0: False\n",
      "CZ 101.0: False\n",
      "CZ 114.0: False\n",
      "DE 15.0: False\n",
      "DE 16.0: False\n",
      "DE 17.0: False\n",
      "DE 18.0: False\n",
      "DE 19.0: False\n",
      "DE 20.0: False\n",
      "DE 21.0: False\n",
      "DE 22.0: False\n",
      "DE 23.0: False\n",
      "DE 24.0: False\n",
      "DE 25.0: False\n",
      "DE 26.0: False\n",
      "DE 27.0: False\n",
      "DE 28.0: False\n",
      "DE 29.0: False\n",
      "DE 30.0: False\n",
      "DE 31.0: False\n",
      "DE 32.0: False\n",
      "DE 33.0: False\n",
      "DE 34.0: False\n",
      "DE 35.0: False\n",
      "DE 36.0: False\n",
      "DE 37.0: False\n",
      "DE 38.0: False\n",
      "DE 39.0: False\n",
      "DE 40.0: False\n",
      "DE 41.0: False\n",
      "DE 42.0: False\n",
      "DE 43.0: False\n",
      "DE 44.0: False\n",
      "DE 45.0: False\n",
      "DE 46.0: False\n",
      "DE 47.0: False\n",
      "DE 48.0: False\n",
      "DE 49.0: False\n",
      "DE 50.0: False\n",
      "DE 51.0: False\n",
      "DE 52.0: False\n",
      "DE 53.0: False\n",
      "DE 54.0: False\n",
      "DE 55.0: False\n",
      "DE 56.0: False\n",
      "DE 57.0: False\n",
      "DE 58.0: False\n",
      "DE 59.0: False\n",
      "DE 60.0: False\n",
      "DE 61.0: False\n",
      "DE 62.0: False\n",
      "DE 63.0: False\n",
      "DE 64.0: False\n",
      "DE 65.0: False\n",
      "DE 67.0: False\n",
      "DE 68.0: False\n",
      "DE 69.0: False\n",
      "DE 70.0: False\n",
      "DE 71.0: False\n",
      "DE 72.0: False\n",
      "DE 73.0: False\n",
      "DE 74.0: False\n",
      "DE 75.0: False\n",
      "DE 76.0: False\n",
      "DE 78.0: False\n",
      "DE 79.0: False\n",
      "DE 80.0: False\n",
      "DE 81.0: False\n",
      "DE 82.0: False\n",
      "DE 83.0: False\n",
      "DE 84.0: False\n",
      "DE 85.0: False\n",
      "DE 86.0: False\n",
      "DE 87.0: False\n",
      "DE 89.0: False\n",
      "DE 90.0: False\n",
      "DE 91.0: False\n",
      "DE 92.0: False\n",
      "DE 93.0: False\n",
      "DE 94.0: False\n",
      "DE 95.0: False\n",
      "DE 101.0: False\n",
      "DE 114.0: False\n",
      "ES 15.0: False\n",
      "ES 16.0: False\n",
      "ES 17.0: False\n",
      "ES 18.0: False\n",
      "ES 19.0: False\n",
      "ES 20.0: False\n",
      "ES 21.0: False\n",
      "ES 22.0: False\n",
      "ES 23.0: False\n",
      "ES 24.0: False\n",
      "ES 25.0: False\n",
      "ES 26.0: False\n",
      "ES 27.0: False\n",
      "ES 28.0: False\n",
      "ES 29.0: False\n",
      "ES 30.0: False\n",
      "ES 31.0: False\n",
      "ES 32.0: False\n",
      "ES 33.0: False\n",
      "ES 34.0: False\n",
      "ES 35.0: False\n",
      "ES 36.0: False\n",
      "ES 37.0: False\n",
      "ES 38.0: False\n",
      "ES 39.0: False\n",
      "ES 40.0: False\n",
      "ES 41.0: False\n",
      "ES 42.0: False\n",
      "ES 43.0: False\n",
      "ES 44.0: False\n",
      "ES 45.0: False\n",
      "ES 46.0: False\n",
      "ES 47.0: False\n",
      "ES 48.0: False\n",
      "ES 49.0: False\n",
      "ES 50.0: False\n",
      "ES 51.0: False\n",
      "ES 52.0: False\n",
      "ES 53.0: False\n",
      "ES 54.0: False\n",
      "ES 55.0: False\n",
      "ES 56.0: False\n",
      "ES 57.0: False\n",
      "ES 58.0: False\n",
      "ES 59.0: False\n",
      "ES 60.0: False\n",
      "ES 61.0: False\n",
      "ES 62.0: False\n",
      "ES 63.0: False\n",
      "ES 64.0: False\n",
      "ES 65.0: False\n",
      "ES 67.0: False\n",
      "ES 68.0: False\n",
      "ES 69.0: False\n",
      "ES 70.0: False\n",
      "ES 71.0: False\n",
      "ES 72.0: False\n",
      "ES 73.0: False\n",
      "ES 74.0: False\n",
      "ES 75.0: False\n",
      "ES 76.0: False\n",
      "ES 78.0: False\n",
      "ES 79.0: False\n",
      "ES 80.0: False\n",
      "ES 81.0: False\n",
      "ES 82.0: False\n",
      "ES 83.0: False\n",
      "ES 84.0: False\n",
      "ES 85.0: False\n",
      "ES 86.0: False\n",
      "ES 87.0: False\n",
      "ES 89.0: False\n",
      "ES 90.0: False\n",
      "ES 91.0: False\n",
      "ES 92.0: False\n",
      "ES 93.0: False\n",
      "ES 94.0: False\n",
      "ES 95.0: False\n",
      "ES 101.0: False\n",
      "ES 114.0: False\n",
      "NO 15.0: False\n",
      "NO 16.0: False\n",
      "NO 17.0: False\n",
      "NO 18.0: False\n",
      "NO 19.0: False\n",
      "NO 20.0: False\n",
      "NO 21.0: False\n",
      "NO 22.0: False\n",
      "NO 23.0: False\n",
      "NO 24.0: False\n",
      "NO 25.0: False\n",
      "NO 26.0: False\n",
      "NO 27.0: False\n",
      "NO 28.0: False\n",
      "NO 29.0: False\n",
      "NO 30.0: False\n",
      "NO 31.0: False\n",
      "NO 32.0: False\n",
      "NO 33.0: False\n",
      "NO 34.0: False\n",
      "NO 35.0: False\n",
      "NO 36.0: False\n",
      "NO 37.0: False\n",
      "NO 38.0: False\n",
      "NO 39.0: False\n",
      "NO 40.0: False\n",
      "NO 41.0: False\n",
      "NO 42.0: False\n",
      "NO 43.0: False\n",
      "NO 44.0: False\n",
      "NO 45.0: False\n",
      "NO 46.0: False\n",
      "NO 47.0: False\n",
      "NO 48.0: False\n",
      "NO 49.0: False\n",
      "NO 50.0: False\n",
      "NO 51.0: False\n",
      "NO 52.0: False\n",
      "NO 53.0: False\n",
      "NO 54.0: False\n",
      "NO 55.0: False\n",
      "NO 56.0: False\n",
      "NO 57.0: False\n",
      "NO 58.0: False\n",
      "NO 59.0: False\n",
      "NO 60.0: False\n",
      "NO 61.0: False\n",
      "NO 62.0: False\n",
      "NO 63.0: False\n",
      "NO 64.0: False\n",
      "NO 65.0: False\n",
      "NO 67.0: False\n",
      "NO 68.0: False\n",
      "NO 69.0: False\n",
      "NO 70.0: False\n",
      "NO 71.0: False\n",
      "NO 72.0: False\n",
      "NO 73.0: False\n",
      "NO 74.0: False\n",
      "NO 75.0: False\n",
      "NO 76.0: False\n",
      "NO 78.0: False\n",
      "NO 79.0: False\n",
      "NO 80.0: False\n",
      "NO 81.0: False\n",
      "NO 82.0: False\n",
      "NO 83.0: False\n",
      "NO 84.0: False\n",
      "NO 85.0: False\n",
      "NO 86.0: False\n",
      "NO 87.0: False\n",
      "NO 89.0: False\n",
      "NO 90.0: False\n",
      "NO 91.0: False\n",
      "NO 92.0: False\n",
      "NO 93.0: False\n",
      "NO 94.0: False\n",
      "NO 95.0: False\n",
      "NO 101.0: False\n",
      "NO 114.0: False\n",
      "SE 15.0: False\n",
      "SE 16.0: False\n",
      "SE 17.0: False\n",
      "SE 18.0: False\n",
      "SE 19.0: False\n",
      "SE 20.0: False\n",
      "SE 21.0: False\n",
      "SE 22.0: False\n",
      "SE 23.0: False\n",
      "SE 24.0: False\n",
      "SE 25.0: False\n",
      "SE 26.0: False\n",
      "SE 27.0: False\n",
      "SE 28.0: False\n",
      "SE 29.0: False\n",
      "SE 30.0: False\n",
      "SE 31.0: False\n",
      "SE 32.0: False\n",
      "SE 33.0: False\n",
      "SE 34.0: False\n",
      "SE 35.0: False\n",
      "SE 36.0: False\n",
      "SE 37.0: False\n",
      "SE 38.0: False\n",
      "SE 39.0: False\n",
      "SE 40.0: False\n",
      "SE 41.0: False\n",
      "SE 42.0: False\n",
      "SE 43.0: False\n",
      "SE 44.0: False\n",
      "SE 45.0: False\n",
      "SE 46.0: False\n",
      "SE 47.0: False\n",
      "SE 48.0: False\n",
      "SE 49.0: False\n",
      "SE 50.0: False\n",
      "SE 51.0: False\n",
      "SE 52.0: False\n",
      "SE 53.0: False\n",
      "SE 54.0: False\n",
      "SE 55.0: False\n",
      "SE 56.0: False\n",
      "SE 57.0: False\n",
      "SE 58.0: False\n",
      "SE 59.0: False\n",
      "SE 60.0: False\n",
      "SE 61.0: False\n",
      "SE 62.0: False\n",
      "SE 63.0: False\n",
      "SE 64.0: False\n",
      "SE 65.0: False\n",
      "SE 67.0: False\n",
      "SE 68.0: False\n",
      "SE 69.0: False\n",
      "SE 70.0: False\n",
      "SE 71.0: False\n",
      "SE 72.0: False\n",
      "SE 73.0: False\n",
      "SE 74.0: False\n",
      "SE 75.0: False\n",
      "SE 76.0: False\n",
      "SE 78.0: False\n",
      "SE 79.0: False\n",
      "SE 80.0: False\n",
      "SE 81.0: False\n",
      "SE 82.0: False\n",
      "SE 83.0: False\n",
      "SE 84.0: False\n",
      "SE 85.0: False\n",
      "SE 86.0: False\n",
      "SE 87.0: False\n",
      "SE 89.0: False\n",
      "SE 90.0: False\n",
      "SE 91.0: False\n",
      "SE 92.0: False\n",
      "SE 93.0: False\n",
      "SE 94.0: False\n",
      "SE 95.0: False\n",
      "SE 101.0: False\n",
      "SE 114.0: False\n"
     ]
    }
   ],
   "source": [
    "for cntry in df.cntry.unique():\n",
    "    for age in agea:\n",
    "        print(cntry + ' ' + str(age) + ': ' + str(\n",
    "            ttest_rel(\n",
    "                df.sclact.where(df.cntry == cntry).where(df.year == 7).where(df.where(df.agea == age).where(df.year == 7).fillna(df.sclact.where(df.cntry == cntry).where(df.agea == age).where(df.year == 7)).mean()),\n",
    "                df.sclact.where(df.cntry != cntry).where(df.year == 7).where(df.where(df.agea == age).where(df.year == 7).fillna(df.sclact.where(df.cntry != cntry).where(df.agea == age).where(df.year == 7)).mean())\n",
    "                ).pvalue < 0.05\n",
    "            )\n",
    "        )"
   ]
  },
  {
   "cell_type": "code",
   "execution_count": null,
   "metadata": {},
   "outputs": [],
   "source": []
  }
 ],
 "metadata": {
  "kernelspec": {
   "display_name": "Python 3",
   "language": "python",
   "name": "python3"
  },
  "language_info": {
   "codemirror_mode": {
    "name": "ipython",
    "version": 3
   },
   "file_extension": ".py",
   "mimetype": "text/x-python",
   "name": "python",
   "nbconvert_exporter": "python",
   "pygments_lexer": "ipython3",
   "version": "3.7.2"
  }
 },
 "nbformat": 4,
 "nbformat_minor": 2
}
