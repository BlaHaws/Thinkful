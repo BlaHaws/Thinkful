{
 "cells": [
  {
   "cell_type": "code",
   "execution_count": 1,
   "metadata": {},
   "outputs": [],
   "source": [
    "import pandas as pd\n",
    "import numpy as np\n",
    "from scipy.stats import truncnorm\n",
    "agents = pd.DataFrame()"
   ]
  },
  {
   "cell_type": "code",
   "execution_count": 2,
   "metadata": {},
   "outputs": [],
   "source": [
    "def get_truncated_normal(mean=0, sd=1, low=0, upp=10):\n",
    "    return truncnorm(\n",
    "    (low - mean) / sd, (upp - mean) / sd, loc=mean, scale=sd)"
   ]
  },
  {
   "cell_type": "code",
   "execution_count": 13,
   "metadata": {},
   "outputs": [],
   "source": [
    "numbers = np.random.normal(.5, .1, 10000)\n",
    "ages = np.round(np.random.normal(36, 5, 10000), 0)\n",
    "males = np.zeros((9000,), dtype=int)\n",
    "females = np.ones((1000,), dtype=int)\n",
    "genders = np.concatenate((males, females), axis=None)\n",
    "reli = np.zeros((8000,), dtype=int)\n",
    "relo = np.ones((2000,), dtype=int)\n",
    "religions = np.concatenate((reli, relo), axis=None)\n",
    "fighter = np.zeros((5000,), dtype=int)\n",
    "funding = np.ones((2200,), dtype=int)\n",
    "intel = np.full((1,2200), 2)\n",
    "command = np.full((1,600), 3)\n",
    "roles = np.concatenate((fighter, funding, intel, command), axis=None)\n",
    "np.random.shuffle(genders)\n",
    "np.random.shuffle(religions)\n",
    "np.random.shuffle(roles)\n",
    "#agr_bhv = np.random.ranf((10000,))\n",
    "X1 = get_truncated_normal(mean=.25, sd=.25, low=0, upp=1)\n",
    "X2 = get_truncated_normal(mean=.5, sd=.15, low=0, upp=1)\n",
    "X3 = get_truncated_normal(mean=.35, sd=.3, low=0, upp=1)\n",
    "agr_bhv = X1.rvs(10000)\n",
    "rel_fnt = X2.rvs(10000)\n",
    "hst_twd_for = np.random.ranf((10000,))\n",
    "lvl_rct_act = np.random.ranf((10000,))\n",
    "crt_agr_lvl = np.random.ranf((10000,))"
   ]
  },
  {
   "cell_type": "code",
   "execution_count": 14,
   "metadata": {},
   "outputs": [],
   "source": [
    "agents['ages'] = ages.astype(int)\n",
    "agents['gender'] = genders\n",
    "agents['religion'] = religions\n",
    "agents['role'] = roles\n",
    "agents['agr_bhv'] = agr_bhv\n",
    "agents['rel_fnt'] = rel_fnt\n",
    "agents['hst_twd_for'] = hst_twd_for\n",
    "agents['lvl_rct_act'] = lvl_rct_act\n",
    "agents['crt_agr_lvl'] = crt_agr_lvl"
   ]
  },
  {
   "cell_type": "code",
   "execution_count": 15,
   "metadata": {},
   "outputs": [],
   "source": [
    "agents['is_terrorist'] = None\n",
    "agents.loc[(agents['lvl_rct_act'] >= 0.85) | ((agents['rel_fnt'] >= 0.75) & (agents['hst_twd_for'] >= 0.75) & (agents['crt_agr_lvl'] >= 0.6)), 'is_terrorist'] = 1\n",
    "agents.loc[(agents['lvl_rct_act'] < 0.85) | ((agents['rel_fnt'] < 0.75) & (agents['hst_twd_for'] < 0.75) & (agents['crt_agr_lvl'] < 0.6)), 'is_terrorist'] = 0"
   ]
  },
  {
   "cell_type": "code",
   "execution_count": 16,
   "metadata": {},
   "outputs": [],
   "source": [
    "agents.to_csv('GeneratedAgents.csv')"
   ]
  },
  {
   "cell_type": "code",
   "execution_count": 17,
   "metadata": {},
   "outputs": [
    {
     "data": {
      "text/plain": [
       "ages            879\n",
       "gender          879\n",
       "religion        879\n",
       "role            879\n",
       "agr_bhv         879\n",
       "rel_fnt         879\n",
       "hst_twd_for     879\n",
       "lvl_rct_act     879\n",
       "crt_agr_lvl     879\n",
       "is_terrorist    879\n",
       "dtype: int64"
      ]
     },
     "execution_count": 17,
     "metadata": {},
     "output_type": "execute_result"
    }
   ],
   "source": [
    "agents[agents['is_terrorist'] == 1].count()"
   ]
  },
  {
   "cell_type": "code",
   "execution_count": null,
   "metadata": {},
   "outputs": [],
   "source": []
  }
 ],
 "metadata": {
  "kernelspec": {
   "display_name": "Python 3",
   "language": "python",
   "name": "python3"
  },
  "language_info": {
   "codemirror_mode": {
    "name": "ipython",
    "version": 3
   },
   "file_extension": ".py",
   "mimetype": "text/x-python",
   "name": "python",
   "nbconvert_exporter": "python",
   "pygments_lexer": "ipython3",
   "version": "3.7.0"
  }
 },
 "nbformat": 4,
 "nbformat_minor": 2
}
