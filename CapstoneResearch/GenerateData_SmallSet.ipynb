{
 "cells": [
  {
   "cell_type": "code",
   "execution_count": 1,
   "metadata": {},
   "outputs": [],
   "source": [
    "import pandas as pd\n",
    "import numpy as np\n",
    "from scipy.stats import truncnorm\n",
    "agents = pd.DataFrame()"
   ]
  },
  {
   "cell_type": "code",
   "execution_count": 2,
   "metadata": {},
   "outputs": [],
   "source": [
    "def get_truncated_normal(mean=0, sd=1, low=0, upp=10):\n",
    "    return truncnorm(\n",
    "    (low - mean) / sd, (upp - mean) / sd, loc=mean, scale=sd)"
   ]
  },
  {
   "cell_type": "code",
   "execution_count": 3,
   "metadata": {},
   "outputs": [],
   "source": [
    "numbers = np.random.normal(.5, .1, 1000)\n",
    "ages = np.round(np.random.normal(36, 5, 1000), 0)\n",
    "males = np.zeros((900,), dtype=int)\n",
    "females = np.ones((100,), dtype=int)\n",
    "genders = np.concatenate((males, females), axis=None)\n",
    "reli = np.zeros((800,), dtype=int)\n",
    "relo = np.ones((200,), dtype=int)\n",
    "religions = np.concatenate((reli, relo), axis=None)\n",
    "fighter = np.zeros((500,), dtype=int)\n",
    "funding = np.ones((220,), dtype=int)\n",
    "intel = np.full((1,220), 2)\n",
    "command = np.full((1,60), 3)\n",
    "roles = np.concatenate((fighter, funding, intel, command), axis=None)\n",
    "np.random.shuffle(genders)\n",
    "np.random.shuffle(religions)\n",
    "np.random.shuffle(roles)\n",
    "#agr_bhv = np.random.ranf((10000,))\n",
    "X1 = get_truncated_normal(mean=.25, sd=.25, low=0, upp=1)\n",
    "X2 = get_truncated_normal(mean=.5, sd=.15, low=0, upp=1)\n",
    "X3 = get_truncated_normal(mean=.35, sd=.3, low=0, upp=1)\n",
    "X4 = get_truncated_normal(mean=.2, sd=.35, low=0, upp=1)\n",
    "X5 = get_truncated_normal(mean=.5, sd=.4, low=0, upp=1)\n",
    "agr_bhv = X1.rvs(1000)\n",
    "rel_fnt = X2.rvs(1000)\n",
    "hst_twd_for = X3.rvs(1000)\n",
    "lvl_rct_act = X4.rvs(1000)\n",
    "crt_agr_lvl = X5.rvs(1000)\n",
    "rel_agr = agr_bhv * rel_fnt\n",
    "rel_agr = rel_agr / rel_agr.max()"
   ]
  },
  {
   "cell_type": "code",
   "execution_count": 4,
   "metadata": {},
   "outputs": [],
   "source": [
    "agents['ages'] = ages.astype(int)\n",
    "agents['gender'] = genders\n",
    "agents['religion'] = religions\n",
    "agents['role'] = roles\n",
    "agents['agr_bhv'] = agr_bhv\n",
    "agents['rel_fnt'] = rel_fnt\n",
    "agents['hst_twd_for'] = hst_twd_for\n",
    "agents['lvl_rct_act'] = lvl_rct_act\n",
    "agents['crt_agr_lvl'] = crt_agr_lvl\n",
    "agents['rel_agr'] = rel_agr"
   ]
  },
  {
   "cell_type": "code",
   "execution_count": 8,
   "metadata": {},
   "outputs": [],
   "source": [
    "agents['is_current_threat'] = None\n",
    "agents.loc[(agents['lvl_rct_act'] >= 0.75) | ((agents['rel_fnt'] >= 0.75) & (agents['hst_twd_for'] >= 0.75) & (agents['crt_agr_lvl'] >= 0.6)), 'is_current_threat'] = 1\n",
    "agents.loc[(agents['lvl_rct_act'] < 0.75) | ((agents['rel_fnt'] < 0.75) & (agents['hst_twd_for'] < 0.75) & (agents['crt_agr_lvl'] < 0.6)), 'is_current_threat'] = 0"
   ]
  },
  {
   "cell_type": "code",
   "execution_count": 10,
   "metadata": {},
   "outputs": [],
   "source": [
    "agents.to_csv('GeneratedAgents_SmallSet.csv')"
   ]
  },
  {
   "cell_type": "code",
   "execution_count": 12,
   "metadata": {},
   "outputs": [
    {
     "data": {
      "text/plain": [
       "ages                 32\n",
       "gender               32\n",
       "religion             32\n",
       "role                 32\n",
       "agr_bhv              32\n",
       "rel_fnt              32\n",
       "hst_twd_for          32\n",
       "lvl_rct_act          32\n",
       "crt_agr_lvl          32\n",
       "rel_agr              32\n",
       "is_current_threat    32\n",
       "dtype: int64"
      ]
     },
     "execution_count": 12,
     "metadata": {},
     "output_type": "execute_result"
    }
   ],
   "source": [
    "agents[agents['is_current_threat'] == 1].count()"
   ]
  },
  {
   "cell_type": "code",
   "execution_count": null,
   "metadata": {},
   "outputs": [],
   "source": []
  }
 ],
 "metadata": {
  "kernelspec": {
   "display_name": "Python 3",
   "language": "python",
   "name": "python3"
  },
  "language_info": {
   "codemirror_mode": {
    "name": "ipython",
    "version": 3
   },
   "file_extension": ".py",
   "mimetype": "text/x-python",
   "name": "python",
   "nbconvert_exporter": "python",
   "pygments_lexer": "ipython3",
   "version": "3.7.0"
  }
 },
 "nbformat": 4,
 "nbformat_minor": 2
}
