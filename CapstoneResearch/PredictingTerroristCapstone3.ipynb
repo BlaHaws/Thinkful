{
 "cells": [
  {
   "cell_type": "code",
   "execution_count": 18,
   "metadata": {},
   "outputs": [],
   "source": [
    "import pandas as pd\n",
    "import numpy as np\n",
    "import scipy\n",
    "import math\n",
    "import matplotlib.pyplot as plt\n",
    "import seaborn as sns\n",
    "import scipy.stats as stats\n",
    "import statsmodels.formula.api as smf\n",
    "\n",
    "from statsmodels.sandbox.regression.predstd import wls_prediction_std\n",
    "from sklearn import ensemble\n",
    "from sklearn import datasets\n",
    "from sklearn.utils import shuffle\n",
    "from sklearn.metrics import mean_squared_error\n",
    "from matplotlib.mlab import PCA as mlabPCA\n",
    "from sklearn.preprocessing import StandardScaler\n",
    "from sklearn.decomposition import PCA \n",
    "from sklearn.naive_bayes import BernoulliNB\n",
    "from sklearn.metrics import confusion_matrix\n",
    "from sklearn.model_selection import train_test_split\n",
    "from sklearn.model_selection import cross_val_score\n",
    "from sklearn import linear_model\n",
    "from sklearn.cross_decomposition import PLSRegression\n",
    "\n",
    "%matplotlib inline\n",
    "pd.options.display.float_format = '{:.3f}'.format\n",
    "import warnings\n",
    "warnings.filterwarnings(action=\"ignore\", module=\"scipy\", message=\"^internal gelsd\")"
   ]
  },
  {
   "cell_type": "code",
   "execution_count": 19,
   "metadata": {},
   "outputs": [],
   "source": [
    "sns.set_style('white')\n",
    "data = pd.read_csv('C://duh/Thinkful/CapstoneResearch/GeneratedAgents.csv')"
   ]
  },
  {
   "cell_type": "markdown",
   "metadata": {},
   "source": [
    "# Naive Bayes"
   ]
  },
  {
   "cell_type": "code",
   "execution_count": 20,
   "metadata": {},
   "outputs": [
    {
     "name": "stdout",
     "output_type": "stream",
     "text": [
      "Number of mislabeled points out of a total 10000 points : 348\n",
      "Confusion Matrix:\n",
      " [[9652    0]\n",
      " [ 348    0]]\n",
      "With 20% Holdout: 0.972\n",
      "Testing on Sample: 0.9652\n",
      "Cross Validation:\n",
      " [0.96503497 0.96503497 0.965      0.965      0.965      0.965\n",
      " 0.965      0.965      0.96596597 0.96596597]\n"
     ]
    }
   ],
   "source": [
    "bnb_X = data.drop(['is_current_threat'], 1)\n",
    "bnb_Y = data['is_current_threat']\n",
    "bnb = BernoulliNB()\n",
    "bnb.fit(bnb_X, bnb_Y)\n",
    "bnb_y_pred = bnb.predict(bnb_X)\n",
    "print(\"Number of mislabeled points out of a total {} points : {}\".format(\n",
    "    bnb_X.shape[0],\n",
    "    (bnb_Y != bnb_y_pred).sum()\n",
    "))\n",
    "print('Confusion Matrix:\\n', confusion_matrix(bnb_Y, bnb_y_pred))\n",
    "bnb_X_train, bnb_X_test, bnb_y_train, bnb_y_test = train_test_split(bnb_X, bnb_Y, test_size=0.2, random_state=20)\n",
    "print('With 20% Holdout: ' + str(bnb.fit(bnb_X_train, bnb_y_train).score(bnb_X_test, bnb_y_test)))\n",
    "print('Testing on Sample: ' + str(bnb.fit(bnb_X, bnb_Y).score(bnb_X, bnb_Y)))\n",
    "print('Cross Validation:\\n',cross_val_score(bnb, bnb_X, bnb_Y, cv=10))"
   ]
  },
  {
   "cell_type": "markdown",
   "metadata": {},
   "source": [
    "# Linear Regression"
   ]
  },
  {
   "cell_type": "code",
   "execution_count": 24,
   "metadata": {},
   "outputs": [
    {
     "name": "stdout",
     "output_type": "stream",
     "text": [
      "Coefficients:\n",
      " [2.61999599e-04 5.68286200e-03 9.72117743e-03 4.77386271e-04\n",
      " 1.91972359e-02 3.49459448e-02 2.90189520e-02 2.83528652e-01\n",
      " 9.18421891e-02]\n",
      "Intercept:\n",
      " -0.15974594762071603\n",
      "R-squared score: 0.15044263220731102\n",
      "Cross Validation:\n",
      " [0.12785398 0.11484667 0.10243405 0.14184422 0.17976062 0.1823538\n",
      " 0.17741165 0.1658582  0.08480788 0.1287907 ]\n"
     ]
    }
   ],
   "source": [
    "lin_X = data.drop(['is_current_threat'], 1)\n",
    "lin_Y = data['is_current_threat'] \n",
    "lin_regr = linear_model.LinearRegression()\n",
    "lin_regr.fit(lin_X, lin_Y)\n",
    "print('Coefficients:\\n', lin_regr.coef_)\n",
    "print('Intercept:\\n',lin_regr.intercept_)\n",
    "print('R-squared score:', lin_regr.score(lin_X, lin_Y))\n",
    "print('Cross Validation:\\n', cross_val_score(lin_regr, lin_X, lin_Y, cv=10))"
   ]
  },
  {
   "cell_type": "code",
   "execution_count": null,
   "metadata": {},
   "outputs": [],
   "source": []
  }
 ],
 "metadata": {
  "kernelspec": {
   "display_name": "Python 3",
   "language": "python",
   "name": "python3"
  },
  "language_info": {
   "codemirror_mode": {
    "name": "ipython",
    "version": 3
   },
   "file_extension": ".py",
   "mimetype": "text/x-python",
   "name": "python",
   "nbconvert_exporter": "python",
   "pygments_lexer": "ipython3",
   "version": "3.7.0"
  }
 },
 "nbformat": 4,
 "nbformat_minor": 2
}
